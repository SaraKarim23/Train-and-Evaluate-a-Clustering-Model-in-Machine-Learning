{
  "nbformat": 4,
  "nbformat_minor": 0,
  "metadata": {
    "colab": {
      "name": "Train and Evaluate a Clustering Model in Machine Learning.ipynb",
      "provenance": [],
      "authorship_tag": "ABX9TyP62v2k60OjjN/Zx0IscP0c",
      "include_colab_link": true
    },
    "kernelspec": {
      "name": "python3",
      "display_name": "Python 3"
    },
    "language_info": {
      "name": "python"
    }
  },
  "cells": [
    {
      "cell_type": "markdown",
      "metadata": {
        "id": "view-in-github",
        "colab_type": "text"
      },
      "source": [
        "<a href=\"https://colab.research.google.com/github/SaraKarim23/Train-and-Evaluate-a-Clustering-Model-in-Machine-Learning/blob/main/Train_and_Evaluate_a_Clustering_Model_in_Machine_Learning.ipynb\" target=\"_parent\"><img src=\"https://colab.research.google.com/assets/colab-badge.svg\" alt=\"Open In Colab\"/></a>"
      ]
    },
    {
      "cell_type": "code",
      "metadata": {
        "colab": {
          "base_uri": "https://localhost:8080/",
          "height": 560
        },
        "id": "KXe3EJvO8GKC",
        "outputId": "2eb9bfa5-b0a2-4f90-f0d1-6c2c68df1308"
      },
      "source": [
        "import pandas as pd\n",
        "\n",
        "# load the training dataset\n",
        "!wget https://raw.githubusercontent.com/MicrosoftDocs/mslearn-introduction-to-machine-learning/main/Data/ml-basics/seeds.csv\n",
        "data = pd.read_csv('seeds.csv')\n",
        "\n",
        "# Display a random sample of 10 observations (just the features)\n",
        "features = data[data.columns[0:6]]\n",
        "features.sample(10)"
      ],
      "execution_count": 2,
      "outputs": [
        {
          "output_type": "stream",
          "text": [
            "--2021-07-23 10:44:57--  https://raw.githubusercontent.com/MicrosoftDocs/mslearn-introduction-to-machine-learning/main/Data/ml-basics/seeds.csv\n",
            "Resolving raw.githubusercontent.com (raw.githubusercontent.com)... 185.199.108.133, 185.199.111.133, 185.199.109.133, ...\n",
            "Connecting to raw.githubusercontent.com (raw.githubusercontent.com)|185.199.108.133|:443... connected.\n",
            "HTTP request sent, awaiting response... 200 OK\n",
            "Length: 9386 (9.2K) [text/plain]\n",
            "Saving to: ‘seeds.csv’\n",
            "\n",
            "\rseeds.csv             0%[                    ]       0  --.-KB/s               \rseeds.csv           100%[===================>]   9.17K  --.-KB/s    in 0s      \n",
            "\n",
            "2021-07-23 10:44:57 (91.6 MB/s) - ‘seeds.csv’ saved [9386/9386]\n",
            "\n"
          ],
          "name": "stdout"
        },
        {
          "output_type": "execute_result",
          "data": {
            "text/html": [
              "<div>\n",
              "<style scoped>\n",
              "    .dataframe tbody tr th:only-of-type {\n",
              "        vertical-align: middle;\n",
              "    }\n",
              "\n",
              "    .dataframe tbody tr th {\n",
              "        vertical-align: top;\n",
              "    }\n",
              "\n",
              "    .dataframe thead th {\n",
              "        text-align: right;\n",
              "    }\n",
              "</style>\n",
              "<table border=\"1\" class=\"dataframe\">\n",
              "  <thead>\n",
              "    <tr style=\"text-align: right;\">\n",
              "      <th></th>\n",
              "      <th>area</th>\n",
              "      <th>perimeter</th>\n",
              "      <th>compactness</th>\n",
              "      <th>kernel_length</th>\n",
              "      <th>kernel_width</th>\n",
              "      <th>asymmetry_coefficient</th>\n",
              "    </tr>\n",
              "  </thead>\n",
              "  <tbody>\n",
              "    <tr>\n",
              "      <th>93</th>\n",
              "      <td>18.59</td>\n",
              "      <td>16.05</td>\n",
              "      <td>0.9066</td>\n",
              "      <td>6.037</td>\n",
              "      <td>3.860</td>\n",
              "      <td>6.001</td>\n",
              "    </tr>\n",
              "    <tr>\n",
              "      <th>86</th>\n",
              "      <td>18.88</td>\n",
              "      <td>16.26</td>\n",
              "      <td>0.8969</td>\n",
              "      <td>6.084</td>\n",
              "      <td>3.764</td>\n",
              "      <td>1.649</td>\n",
              "    </tr>\n",
              "    <tr>\n",
              "      <th>153</th>\n",
              "      <td>11.18</td>\n",
              "      <td>13.04</td>\n",
              "      <td>0.8266</td>\n",
              "      <td>5.220</td>\n",
              "      <td>2.693</td>\n",
              "      <td>3.332</td>\n",
              "    </tr>\n",
              "    <tr>\n",
              "      <th>87</th>\n",
              "      <td>18.98</td>\n",
              "      <td>16.66</td>\n",
              "      <td>0.8590</td>\n",
              "      <td>6.549</td>\n",
              "      <td>3.670</td>\n",
              "      <td>3.691</td>\n",
              "    </tr>\n",
              "    <tr>\n",
              "      <th>111</th>\n",
              "      <td>19.38</td>\n",
              "      <td>16.72</td>\n",
              "      <td>0.8716</td>\n",
              "      <td>6.303</td>\n",
              "      <td>3.791</td>\n",
              "      <td>3.678</td>\n",
              "    </tr>\n",
              "    <tr>\n",
              "      <th>55</th>\n",
              "      <td>15.03</td>\n",
              "      <td>14.77</td>\n",
              "      <td>0.8658</td>\n",
              "      <td>5.702</td>\n",
              "      <td>3.212</td>\n",
              "      <td>1.933</td>\n",
              "    </tr>\n",
              "    <tr>\n",
              "      <th>23</th>\n",
              "      <td>12.08</td>\n",
              "      <td>13.23</td>\n",
              "      <td>0.8664</td>\n",
              "      <td>5.099</td>\n",
              "      <td>2.936</td>\n",
              "      <td>1.415</td>\n",
              "    </tr>\n",
              "    <tr>\n",
              "      <th>204</th>\n",
              "      <td>12.37</td>\n",
              "      <td>13.47</td>\n",
              "      <td>0.8567</td>\n",
              "      <td>5.204</td>\n",
              "      <td>2.960</td>\n",
              "      <td>3.919</td>\n",
              "    </tr>\n",
              "    <tr>\n",
              "      <th>128</th>\n",
              "      <td>20.16</td>\n",
              "      <td>17.03</td>\n",
              "      <td>0.8735</td>\n",
              "      <td>6.513</td>\n",
              "      <td>3.773</td>\n",
              "      <td>1.910</td>\n",
              "    </tr>\n",
              "    <tr>\n",
              "      <th>70</th>\n",
              "      <td>17.63</td>\n",
              "      <td>15.98</td>\n",
              "      <td>0.8673</td>\n",
              "      <td>6.191</td>\n",
              "      <td>3.561</td>\n",
              "      <td>4.076</td>\n",
              "    </tr>\n",
              "  </tbody>\n",
              "</table>\n",
              "</div>"
            ],
            "text/plain": [
              "      area  perimeter  ...  kernel_width  asymmetry_coefficient\n",
              "93   18.59      16.05  ...         3.860                  6.001\n",
              "86   18.88      16.26  ...         3.764                  1.649\n",
              "153  11.18      13.04  ...         2.693                  3.332\n",
              "87   18.98      16.66  ...         3.670                  3.691\n",
              "111  19.38      16.72  ...         3.791                  3.678\n",
              "55   15.03      14.77  ...         3.212                  1.933\n",
              "23   12.08      13.23  ...         2.936                  1.415\n",
              "204  12.37      13.47  ...         2.960                  3.919\n",
              "128  20.16      17.03  ...         3.773                  1.910\n",
              "70   17.63      15.98  ...         3.561                  4.076\n",
              "\n",
              "[10 rows x 6 columns]"
            ]
          },
          "metadata": {
            "tags": []
          },
          "execution_count": 2
        }
      ]
    },
    {
      "cell_type": "code",
      "metadata": {
        "colab": {
          "base_uri": "https://localhost:8080/"
        },
        "id": "Xdy1AMjs86bX",
        "outputId": "b28e2e68-01ca-4c0c-9c23-afa594c78bfc"
      },
      "source": [
        "from sklearn.preprocessing import MinMaxScaler\n",
        "from sklearn.decomposition import PCA\n",
        "\n",
        "# Normalize the numeric features so they're on the same scale\n",
        "scaled_features = MinMaxScaler().fit_transform(features[data.columns[0:6]])\n",
        "\n",
        "# Get two principal components\n",
        "pca = PCA(n_components=2).fit(scaled_features)\n",
        "features_2d = pca.transform(scaled_features)\n",
        "features_2d[0:10]"
      ],
      "execution_count": 3,
      "outputs": [
        {
          "output_type": "execute_result",
          "data": {
            "text/plain": [
              "array([[ 0.11883593, -0.09382469],\n",
              "       [ 0.0696878 , -0.31077233],\n",
              "       [-0.03499184, -0.37044705],\n",
              "       [-0.06582089, -0.36365235],\n",
              "       [ 0.32594892, -0.37695797],\n",
              "       [-0.02455447, -0.31060184],\n",
              "       [-0.00769646, -0.07594931],\n",
              "       [-0.05646955, -0.26696284],\n",
              "       [ 0.38196305, -0.05149471],\n",
              "       [ 0.35701044, -0.17697998]])"
            ]
          },
          "metadata": {
            "tags": []
          },
          "execution_count": 3
        }
      ]
    },
    {
      "cell_type": "code",
      "metadata": {
        "colab": {
          "base_uri": "https://localhost:8080/",
          "height": 295
        },
        "id": "vJJNL4ZG9_h6",
        "outputId": "c6aacbea-9e31-4102-e667-3fedb5f8593d"
      },
      "source": [
        "import matplotlib.pyplot as plt\n",
        "\n",
        "%matplotlib inline\n",
        "\n",
        "plt.scatter(features_2d[:,0],features_2d[:,1])\n",
        "plt.xlabel('Dimension 1')\n",
        "plt.ylabel('Dimension 2')\n",
        "plt.title('Data')\n",
        "plt.show()"
      ],
      "execution_count": 4,
      "outputs": [
        {
          "output_type": "display_data",
          "data": {
            "image/png": "[encoded data removed]",
            "text/plain": [
              "<Figure size 432x288 with 1 Axes>"
            ]
          },
          "metadata": {
            "tags": [],
            "needs_background": "light"
          }
        }
      ]
    },
    {
      "cell_type": "code",
      "metadata": {
        "colab": {
          "base_uri": "https://localhost:8080/",
          "height": 295
        },
        "id": "9dqDP5M6E17m",
        "outputId": "7f509980-d6c7-48c3-b7f5-f1714bcb533d"
      },
      "source": [
        "#importing the libraries\n",
        "import numpy as np\n",
        "import matplotlib.pyplot as plt\n",
        "from sklearn.cluster import KMeans\n",
        "%matplotlib inline\n",
        "\n",
        "# Create 10 models with 1 to 10 clusters\n",
        "wcss = []\n",
        "for i in range(1, 11):\n",
        "    kmeans = KMeans(n_clusters = i)\n",
        "    # Fit the data points\n",
        "    kmeans.fit(features.values)\n",
        "    # Get the WCSS (inertia) value\n",
        "    wcss.append(kmeans.inertia_)\n",
        "    \n",
        "#Plot the WCSS values onto a line graph\n",
        "plt.plot(range(1, 11), wcss)\n",
        "plt.title('WCSS by Clusters')\n",
        "plt.xlabel('Number of clusters')\n",
        "plt.ylabel('WCSS')\n",
        "plt.show()"
      ],
      "execution_count": 5,
      "outputs": [
        {
          "output_type": "display_data",
          "data": {
            "image/png": "[encoded data removed]",
            "text/plain": [
              "<Figure size 432x288 with 1 Axes>"
            ]
          },
          "metadata": {
            "tags": [],
            "needs_background": "light"
          }
        }
      ]
    }
  ]
}